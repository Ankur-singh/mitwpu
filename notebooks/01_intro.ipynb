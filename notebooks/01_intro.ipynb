{
  "nbformat": 4,
  "nbformat_minor": 0,
  "metadata": {
    "colab": {
      "name": "01_intro.ipynb",
      "provenance": []
    },
    "kernelspec": {
      "name": "python3",
      "display_name": "Python 3"
    },
    "accelerator": "GPU"
  },
  "cells": [
    {
      "cell_type": "markdown",
      "metadata": {
        "id": "FiyeFhD8mNe1",
        "colab_type": "text"
      },
      "source": [
        "![](https://github.com/Ai-Adventures/rmd/blob/master/notebooks/images/logo_full.png?raw=1)\n",
        "\n",
        "The course is offered by [Ai Adventures](https://aiadventures.in/). The notebooks are created by [Ankur Singh](https://twitter.com/I_ankursingh). This material is subject to the terms and conditions of the [Creative Commons CC BY-NC-SA 4.0 license](https://creativecommons.org/licenses/by-nc-sa/4.0/). Any use for commercial purpose is strictly prohibited."
      ]
    },
    {
      "cell_type": "markdown",
      "metadata": {
        "colab_type": "text",
        "id": "view-in-github"
      },
      "source": [
        "<a href=\"https://colab.research.google.com/github/Ai-Adventures/rmd/blob/master/notebooks/01_intro.ipynb\" target=\"_parent\"><img src=\"https://colab.research.google.com/assets/colab-badge.svg\" alt=\"Open In Colab\"/></a>"
      ]
    },
    {
      "cell_type": "markdown",
      "metadata": {
        "colab_type": "text",
        "id": "hdqIolgEa61t"
      },
      "source": [
        "# **Introduction to Neural Networks**\n",
        "\n",
        "### **Approach**\n",
        "\n",
        "Machine learning is taught by academics, for academics. That’s why most material is so dry and math-heavy.\n",
        "\n",
        "Developers need to know what works and how to use it. We need less math and more tutorials with working code.\n",
        "___\n",
        "\n",
        "### **Anatomy of a Neural Network**\n",
        "\n",
        "Buildind and Training a Neural Network revolves around the following objects:\n",
        "- **Layers**, which are combined into a network (or model)\n",
        "- **Input** data and corresponding **targets**\n",
        "- **Loss function**, which defines the feedback signal used for learning\n",
        "- **Optimizer**, which determines how learning proceeds\n",
        "\n",
        "![](https://github.com/Ai-Adventures/rmd/blob/master/notebooks/images/model.png?raw=1)\n",
        "\n",
        "___\n",
        "#### Layers\n",
        "The fundamental data structure in neural networks is the **layer**. You can think of layers as the LEGO bricks of Deep learning, a metaphor that is made explicit by frameworks like keras. Some of the layers are\n",
        "\n",
        "- Dense or Fully connected layers (Dense).\n",
        "- Convolution layers (Conv2D, Conv1D).\n",
        "- Recurrent layers (RNN, LSTM, GRU).\n",
        "\n",
        "In Keras you don't have to care about **compatibility** between the layers because the layers you add to your models are dynamically built to match the shape of the incoming layer."
      ]
    },
    {
      "cell_type": "code",
      "metadata": {
        "colab_type": "code",
        "id": "emJQgExzcF7S",
        "colab": {
          "base_uri": "https://localhost:8080/",
          "height": 87
        },
        "outputId": "f27c0001-bfff-49b7-f596-975ca83356a4"
      },
      "source": [
        "from tensorflow.keras.models import Sequential\n",
        "from tensorflow.keras.layers import Dense\n",
        "\n",
        "model = Sequential()\n",
        "model.add(Dense(32, input_shape=(28*28,)))"
      ],
      "execution_count": 1,
      "outputs": [
        {
          "output_type": "stream",
          "text": [
            "WARNING:tensorflow:From /usr/local/lib/python3.6/dist-packages/tensorflow_core/python/ops/resource_variable_ops.py:1630: calling BaseResourceVariable.__init__ (from tensorflow.python.ops.resource_variable_ops) with constraint is deprecated and will be removed in a future version.\n",
            "Instructions for updating:\n",
            "If using Keras pass *_constraint arguments to layers.\n"
          ],
          "name": "stdout"
        }
      ]
    },
    {
      "cell_type": "markdown",
      "metadata": {
        "colab_type": "text",
        "id": "1pyH_ZlecKdx"
      },
      "source": [
        "#### Loss Functions and Optimizers\n",
        "\n",
        "Once the network architecture is defined, you have to choose two major things:\n",
        "\n",
        "- **Loss function (objective function)** - The quantity that will be minmized during training. It represents a measure of successs for the task at hand.\n",
        "- **Optimizer** - Determines how the network will be updated based on the loss function. It implements a specific variant of stocastic gradient descent(SGD).\n",
        "Choosing the right objective function for the right problem is extremely important: your network will take any shortcut it can, to minimize the loss; so if the objective doesn’t fully correlate with success for the task at hand, your network will end up doing things you may not have wanted.\n",
        "\n",
        "Fortunately, when it comes to common problems such as classification, regression, and sequence prediction, there are simple guidelines you can follow to choose the correct loss. For instance, you’ll use binary_crossentropy for a two-class classification problem, categorical_crossentropy for a many-class classification problem, mean-squared error for a regression problem, connectionist temporal classification(CTC) for a sequence-learning problem, and so on.\n",
        "\n",
        "**Note:** Crossentropy is a quantity from the field of Information Theory that measures the distance between probability distributions or, in this case, between the ground-truth distribution and your predictions."
      ]
    },
    {
      "cell_type": "code",
      "metadata": {
        "colab_type": "code",
        "id": "_PlCdXxYcgti",
        "colab": {}
      },
      "source": [
        "## Using optimizer with default settings \n",
        "model.compile('rmsprop', 'mse', \n",
        "               metrics=['accuracy'])"
      ],
      "execution_count": 0,
      "outputs": []
    },
    {
      "cell_type": "code",
      "metadata": {
        "colab_type": "code",
        "id": "I0hash5bchuZ",
        "colab": {}
      },
      "source": [
        "## Using optimizer with custom argument values\n",
        "from tensorflow.keras.optimizers import RMSprop\n",
        "\n",
        "model.compile(optimizer=RMSprop(),\n",
        "              loss='mse',\n",
        "              metrics = ['accuracy']\n",
        "             )"
      ],
      "execution_count": 0,
      "outputs": []
    },
    {
      "cell_type": "markdown",
      "metadata": {
        "colab_type": "text",
        "id": "agOe5lPlcpke"
      },
      "source": [
        "#### Building your network\n",
        "You can intuitively understand teh dimensionality of your model as \"how much freedom you're allowing the network to have when learning internal representations\". Having more hidden units allows the model to learn more-complex representations/functions, but it makes the network more computationally expensive and may lead to learning unwanted patterns.\n",
        "\n",
        "There are two key architecture decisions to be made about such a stack of Dense layers:\n",
        "\n",
        "- How many layers to use\n",
        "- How many hidden units to choose for each layer\n",
        "\n",
        "All the intermediate layers will use an **Activation Function** like **relu**. Without an activation function, The Dense layer would consist of two linear operations - a dot product and an addition.\n",
        "\n",
        "So the layer could only learn linear transformations of the input data. Such a model is to restricted and wouldn't benefit from multiple layers fo representations, because a deep stack of linear layers would still implement a linear operation: adding more layers wouldn't extend the learning ability of the model.\n",
        "\n",
        "In order to get access to a much richer network that would benefit from deep representaions, you need a non-linearity or activation function. relu is the most popular activation function, but there are many other candidates."
      ]
    },
    {
      "cell_type": "markdown",
      "metadata": {
        "id": "bc_PvbHQmNfF",
        "colab_type": "text"
      },
      "source": [
        "**Exercise:** Visit [Tensorflow Playground](https://playground.tensorflow.org/) and try building (writing keras code) some of the models that you see.  "
      ]
    },
    {
      "cell_type": "markdown",
      "metadata": {
        "colab_type": "text",
        "id": "CKuMLi93c4LB"
      },
      "source": [
        "## Regression problem : Predicting house prices\n"
      ]
    },
    {
      "cell_type": "code",
      "metadata": {
        "colab_type": "code",
        "id": "B_4uGnAeWlNg",
        "colab": {}
      },
      "source": [
        "from tensorflow.keras.datasets import boston_housing\n",
        "\n",
        "from tensorflow.keras.models import Sequential\n",
        "from tensorflow.keras.layers import Dense\n",
        "\n",
        "from tensorflow.keras.optimizers import RMSprop\n",
        "\n",
        "import matplotlib.pyplot as plt\n",
        "%matplotlib inline"
      ],
      "execution_count": 0,
      "outputs": []
    },
    {
      "cell_type": "markdown",
      "metadata": {
        "colab_type": "text",
        "id": "wWbpSvSJc9PZ"
      },
      "source": [
        "##### Loading the dataset"
      ]
    },
    {
      "cell_type": "code",
      "metadata": {
        "colab_type": "code",
        "id": "maZRUanpXft8",
        "outputId": "95ad7fa1-d935-470e-b53c-db5cfcc9a8a7",
        "colab": {
          "base_uri": "https://localhost:8080/",
          "height": 50
        }
      },
      "source": [
        "(X_train, y_train), (X_test, y_test) = boston_housing.load_data()"
      ],
      "execution_count": 3,
      "outputs": [
        {
          "output_type": "stream",
          "text": [
            "Downloading data from https://storage.googleapis.com/tensorflow/tf-keras-datasets/boston_housing.npz\n",
            "57344/57026 [==============================] - 0s 0us/step\n"
          ],
          "name": "stdout"
        }
      ]
    },
    {
      "cell_type": "code",
      "metadata": {
        "colab_type": "code",
        "id": "Sk9KjGqiXs10",
        "outputId": "e21deb7b-7d4b-4e35-ae70-8e38f1e40f9f",
        "colab": {
          "base_uri": "https://localhost:8080/",
          "height": 34
        }
      },
      "source": [
        "X_train.shape, y_train.shape, X_test.shape, y_test.shape"
      ],
      "execution_count": 4,
      "outputs": [
        {
          "output_type": "execute_result",
          "data": {
            "text/plain": [
              "((404, 13), (404,), (102, 13), (102,))"
            ]
          },
          "metadata": {
            "tags": []
          },
          "execution_count": 4
        }
      ]
    },
    {
      "cell_type": "code",
      "metadata": {
        "colab_type": "code",
        "id": "NSSEao6FXzQF",
        "outputId": "706f0537-707b-4e34-e3de-6ec6125440c7",
        "colab": {
          "base_uri": "https://localhost:8080/",
          "height": 118
        }
      },
      "source": [
        "X_train[:2] # first 2 samples"
      ],
      "execution_count": 5,
      "outputs": [
        {
          "output_type": "execute_result",
          "data": {
            "text/plain": [
              "array([[1.23247e+00, 0.00000e+00, 8.14000e+00, 0.00000e+00, 5.38000e-01,\n",
              "        6.14200e+00, 9.17000e+01, 3.97690e+00, 4.00000e+00, 3.07000e+02,\n",
              "        2.10000e+01, 3.96900e+02, 1.87200e+01],\n",
              "       [2.17700e-02, 8.25000e+01, 2.03000e+00, 0.00000e+00, 4.15000e-01,\n",
              "        7.61000e+00, 1.57000e+01, 6.27000e+00, 2.00000e+00, 3.48000e+02,\n",
              "        1.47000e+01, 3.95380e+02, 3.11000e+00]])"
            ]
          },
          "metadata": {
            "tags": []
          },
          "execution_count": 5
        }
      ]
    },
    {
      "cell_type": "code",
      "metadata": {
        "colab_type": "code",
        "id": "sinOF6hoX2LC",
        "outputId": "a299c7e3-15fb-4f38-fca4-8778421522d8",
        "colab": {
          "base_uri": "https://localhost:8080/",
          "height": 34
        }
      },
      "source": [
        "y_train[:2] # first 2 labels"
      ],
      "execution_count": 6,
      "outputs": [
        {
          "output_type": "execute_result",
          "data": {
            "text/plain": [
              "array([15.2, 42.3])"
            ]
          },
          "metadata": {
            "tags": []
          },
          "execution_count": 6
        }
      ]
    },
    {
      "cell_type": "markdown",
      "metadata": {
        "colab_type": "text",
        "id": "rKlXVBfBdLUn"
      },
      "source": [
        "The dataset contains 13 different features:\n",
        "\n",
        "1. Per capita crime rate.\n",
        "2. The proportion of residential land zoned for lots over 25,000 square feet.\n",
        "3. The proportion of non-retail business acres per town.\n",
        "4. Charles River dummy variable (= 1 if tract bounds river; 0 otherwise).\n",
        "5. Nitric oxides concentration (parts per 10 million).\n",
        "6. The average number of rooms per dwelling.\n",
        "7. The proportion of owner-occupied units built before 1940.\n",
        "8. Weighted distances to five Boston employment centers.\n",
        "9. Index of accessibility to radial highways.\n",
        "10. Full-value property-tax rate per $10,000.\n",
        "11. Pupil-teacher ratio by town.\n",
        "12. 1000 * (Bk - 0.63) ** 2 where Bk is the proportion of Black people by town.\n",
        "13. Percentage lower status of the population.\n",
        "\n",
        "Each one of these input data features is stored using a different scale. Some features are represented by a proportion between 0 and 1, other features are ranges between 1 and 12, some are ranges between 0 and 100, and so on. This is often the case with real-world data, and understanding how to explore and clean such data is an important skill to develop.\n",
        "\n",
        "**Labels**\n",
        "\n",
        "The labels are the house prices in thousands of dollars. (You may notice the mid-1970s prices.)"
      ]
    },
    {
      "cell_type": "markdown",
      "metadata": {
        "colab_type": "text",
        "id": "qKEiNxAYdAow"
      },
      "source": [
        "##### Building the model"
      ]
    },
    {
      "cell_type": "code",
      "metadata": {
        "colab_type": "code",
        "id": "YoHvC6zlXWR9",
        "colab": {}
      },
      "source": [
        "model = Sequential()\n",
        "model.add(Dense(32, activation='relu', input_shape=(13,)))\n",
        "model.add(Dense(16, activation='relu'))\n",
        "model.add(Dense(1))"
      ],
      "execution_count": 0,
      "outputs": []
    },
    {
      "cell_type": "code",
      "metadata": {
        "colab_type": "code",
        "id": "3xJVZWg0Y0eL",
        "outputId": "aea184b1-c865-4a44-e7a3-b26443018c3b",
        "colab": {
          "base_uri": "https://localhost:8080/",
          "height": 252
        }
      },
      "source": [
        "model.summary()"
      ],
      "execution_count": 8,
      "outputs": [
        {
          "output_type": "stream",
          "text": [
            "Model: \"sequential_1\"\n",
            "_________________________________________________________________\n",
            "Layer (type)                 Output Shape              Param #   \n",
            "=================================================================\n",
            "dense_1 (Dense)              (None, 32)                448       \n",
            "_________________________________________________________________\n",
            "dense_2 (Dense)              (None, 16)                528       \n",
            "_________________________________________________________________\n",
            "dense_3 (Dense)              (None, 1)                 17        \n",
            "=================================================================\n",
            "Total params: 993\n",
            "Trainable params: 993\n",
            "Non-trainable params: 0\n",
            "_________________________________________________________________\n"
          ],
          "name": "stdout"
        }
      ]
    },
    {
      "cell_type": "code",
      "metadata": {
        "colab_type": "code",
        "id": "y3MDbqmGZDMr",
        "colab": {}
      },
      "source": [
        "model.compile('rmsprop', 'mse', metrics=['mae']) # Mean Absolute Error"
      ],
      "execution_count": 0,
      "outputs": []
    },
    {
      "cell_type": "code",
      "metadata": {
        "colab_type": "code",
        "id": "91InIZD-ZEWU",
        "outputId": "5052e026-8709-4d8d-81cf-0346a28c1a75",
        "colab": {
          "base_uri": "https://localhost:8080/",
          "height": 706
        }
      },
      "source": [
        "history = model.fit(X_train, y_train, epochs=20, validation_data=(X_test, y_test))"
      ],
      "execution_count": 10,
      "outputs": [
        {
          "output_type": "stream",
          "text": [
            "Train on 404 samples, validate on 102 samples\n",
            "Epoch 1/20\n",
            "404/404 [==============================] - 2s 4ms/sample - loss: 654.1954 - mean_absolute_error: 20.2857 - val_loss: 266.8807 - val_mean_absolute_error: 13.9578\n",
            "Epoch 2/20\n",
            "404/404 [==============================] - 0s 134us/sample - loss: 180.4370 - mean_absolute_error: 10.3686 - val_loss: 105.2237 - val_mean_absolute_error: 7.8415\n",
            "Epoch 3/20\n",
            "404/404 [==============================] - 0s 114us/sample - loss: 75.9257 - mean_absolute_error: 6.4146 - val_loss: 65.5378 - val_mean_absolute_error: 5.9583\n",
            "Epoch 4/20\n",
            "404/404 [==============================] - 0s 116us/sample - loss: 75.1681 - mean_absolute_error: 6.5935 - val_loss: 88.0043 - val_mean_absolute_error: 6.5585\n",
            "Epoch 5/20\n",
            "404/404 [==============================] - 0s 139us/sample - loss: 69.3611 - mean_absolute_error: 6.1461 - val_loss: 68.0237 - val_mean_absolute_error: 5.3549\n",
            "Epoch 6/20\n",
            "404/404 [==============================] - 0s 127us/sample - loss: 70.7745 - mean_absolute_error: 6.2320 - val_loss: 66.4676 - val_mean_absolute_error: 5.3242\n",
            "Epoch 7/20\n",
            "404/404 [==============================] - 0s 148us/sample - loss: 56.5823 - mean_absolute_error: 5.4632 - val_loss: 67.3125 - val_mean_absolute_error: 5.4379\n",
            "Epoch 8/20\n",
            "404/404 [==============================] - 0s 159us/sample - loss: 74.2495 - mean_absolute_error: 6.4843 - val_loss: 53.3666 - val_mean_absolute_error: 5.4033\n",
            "Epoch 9/20\n",
            "404/404 [==============================] - 0s 152us/sample - loss: 59.6733 - mean_absolute_error: 5.7839 - val_loss: 53.2769 - val_mean_absolute_error: 5.5883\n",
            "Epoch 10/20\n",
            "404/404 [==============================] - 0s 144us/sample - loss: 62.7088 - mean_absolute_error: 5.7906 - val_loss: 128.5360 - val_mean_absolute_error: 10.1320\n",
            "Epoch 11/20\n",
            "404/404 [==============================] - 0s 142us/sample - loss: 59.7792 - mean_absolute_error: 5.6663 - val_loss: 52.5289 - val_mean_absolute_error: 5.6270\n",
            "Epoch 12/20\n",
            "404/404 [==============================] - 0s 142us/sample - loss: 57.7301 - mean_absolute_error: 5.8673 - val_loss: 50.5170 - val_mean_absolute_error: 5.1820\n",
            "Epoch 13/20\n",
            "404/404 [==============================] - 0s 134us/sample - loss: 54.8624 - mean_absolute_error: 5.3109 - val_loss: 52.6759 - val_mean_absolute_error: 4.8299\n",
            "Epoch 14/20\n",
            "404/404 [==============================] - 0s 137us/sample - loss: 56.4998 - mean_absolute_error: 5.6408 - val_loss: 61.8933 - val_mean_absolute_error: 6.6185\n",
            "Epoch 15/20\n",
            "404/404 [==============================] - 0s 139us/sample - loss: 62.3978 - mean_absolute_error: 5.8040 - val_loss: 55.8436 - val_mean_absolute_error: 5.9875\n",
            "Epoch 16/20\n",
            "404/404 [==============================] - 0s 132us/sample - loss: 55.5438 - mean_absolute_error: 5.4549 - val_loss: 51.0576 - val_mean_absolute_error: 4.7171\n",
            "Epoch 17/20\n",
            "404/404 [==============================] - 0s 127us/sample - loss: 59.6092 - mean_absolute_error: 5.5250 - val_loss: 65.0187 - val_mean_absolute_error: 6.9100\n",
            "Epoch 18/20\n",
            "404/404 [==============================] - 0s 122us/sample - loss: 63.1591 - mean_absolute_error: 6.2062 - val_loss: 52.8320 - val_mean_absolute_error: 4.8327\n",
            "Epoch 19/20\n",
            "404/404 [==============================] - 0s 132us/sample - loss: 53.1801 - mean_absolute_error: 5.2812 - val_loss: 48.3220 - val_mean_absolute_error: 4.7603\n",
            "Epoch 20/20\n",
            "404/404 [==============================] - 0s 131us/sample - loss: 55.9566 - mean_absolute_error: 5.3895 - val_loss: 49.2207 - val_mean_absolute_error: 5.1034\n"
          ],
          "name": "stdout"
        }
      ]
    },
    {
      "cell_type": "code",
      "metadata": {
        "colab_type": "code",
        "id": "hyIPNt6-ZWuS",
        "outputId": "a86d4716-cd62-4df4-a8fc-04160ca927c3",
        "colab": {
          "base_uri": "https://localhost:8080/",
          "height": 50
        }
      },
      "source": [
        "model.predict(X_test[0:2]), y_test[0:2]"
      ],
      "execution_count": 11,
      "outputs": [
        {
          "output_type": "execute_result",
          "data": {
            "text/plain": [
              "(array([[11.028334],\n",
              "        [21.91686 ]], dtype=float32), array([ 7.2, 18.8]))"
            ]
          },
          "metadata": {
            "tags": []
          },
          "execution_count": 11
        }
      ]
    },
    {
      "cell_type": "code",
      "metadata": {
        "colab_type": "code",
        "id": "V82Dcpb5aVqA",
        "outputId": "20815a9d-1d78-4fec-8e11-2a6102a1d1e0",
        "colab": {
          "base_uri": "https://localhost:8080/",
          "height": 34
        }
      },
      "source": [
        "history.history.keys()"
      ],
      "execution_count": 12,
      "outputs": [
        {
          "output_type": "execute_result",
          "data": {
            "text/plain": [
              "dict_keys(['loss', 'mean_absolute_error', 'val_loss', 'val_mean_absolute_error'])"
            ]
          },
          "metadata": {
            "tags": []
          },
          "execution_count": 12
        }
      ]
    },
    {
      "cell_type": "code",
      "metadata": {
        "colab_type": "code",
        "id": "x4aKSuZxZTmT",
        "outputId": "d24a02bd-b247-4168-979d-47a77b7e6e41",
        "colab": {
          "base_uri": "https://localhost:8080/",
          "height": 516
        }
      },
      "source": [
        "plt.figure(figsize=(10,8))\n",
        "plt.plot(list(range(20)), history.history['mean_absolute_error'])\n",
        "plt.plot(list(range(20)), history.history['val_mean_absolute_error'])\n",
        "plt.title('Mean Absolute Error')"
      ],
      "execution_count": 13,
      "outputs": [
        {
          "output_type": "execute_result",
          "data": {
            "text/plain": [
              "Text(0.5, 1.0, 'Mean Absolute Error')"
            ]
          },
          "metadata": {
            "tags": []
          },
          "execution_count": 13
        },
        {
          "output_type": "display_data",
          "data": {
            "image/png": "[encoded data removed]",
            "text/plain": [
              "<Figure size 720x576 with 1 Axes>"
            ]
          },
          "metadata": {
            "tags": []
          }
        }
      ]
    },
    {
      "cell_type": "markdown",
      "metadata": {
        "id": "iRX56z4-m5JR",
        "colab_type": "text"
      },
      "source": [
        "**Exercise:** Learn how to save the model you have just trained in the hard-disk. Refer the [docs](https://www.tensorflow.org/guide/keras/save_and_serialize)."
      ]
    }
  ]
}