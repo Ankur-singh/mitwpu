{
  "nbformat": 4,
  "nbformat_minor": 0,
  "metadata": {
    "colab": {
      "name": "01_intro.ipynb",
      "provenance": [],
      "authorship_tag": "ABX9TyN24cuIZM1klZKeutbZAoQY",
      "include_colab_link": true
    },
    "kernelspec": {
      "name": "python3",
      "display_name": "Python 3"
    },
    "accelerator": "GPU"
  },
  "cells": [
    {
      "cell_type": "markdown",
      "execution_count": null,
      "metadata": {},
      "outputs": [
        {
          "evalue": "Error: Jupyter cannot be started. Error attempting to locate jupyter: python -m jupyter notebook --version is not running",
          "output_type": "error"
        }
      ],
      "source": [
        "![](images/logo_full.png)\n",
        "\n",
        "The course is offered by [Ai Adventures](https://aiadventures.in/). The notebooks are created by [Ankur Singh](https://twitter.com/I_ankursingh). This material is subject to the terms and conditions of the [Creative Commons CC BY-NC-SA 4.0 license](https://creativecommons.org/licenses/by-nc-sa/4.0/). Any use for commercial purpose is strictly prohibited."
      ]
    },
    {
      "cell_type": "markdown",
      "metadata": {
        "colab_type": "text",
        "id": "view-in-github"
      },
      "source": [
        "<a href=\"https://colab.research.google.com/github/Ai-Adventures/rmd/blob/master/notebooks/01_intro.ipynb\" target=\"_parent\"><img src=\"https://colab.research.google.com/assets/colab-badge.svg\" alt=\"Open In Colab\"/></a>"
      ]
    },
    {
      "cell_type": "markdown",
      "metadata": {
        "colab_type": "text",
        "id": "hdqIolgEa61t"
      },
      "source": [
        "# **Introduction to Neural Networks**\n",
        "\n",
        "### **Approach**\n",
        "\n",
        "Machine learning is taught by academics, for academics. That’s why most material is so dry and math-heavy.\n",
        "\n",
        "Developers need to know what works and how to use it. We need less math and more tutorials with working code.\n",
        "___\n",
        "\n",
        "### **Anatomy of a Neural Network**\n",
        "\n",
        "Buildind and Training a Neural Network revolves around the following objects:\n",
        "- **Layers**, which are combined into a network (or model)\n",
        "- **Input** data and corresponding **targets**\n",
        "- **Loss function**, which defines the feedback signal used for learning\n",
        "- **Optimizer**, which determines how learning proceeds\n",
        "\n",
        "![](images/model.png)\n",
        "\n",
        "___\n",
        "#### Layers\n",
        "The fundamental data structure in neural networks is the **layer**. You can think of layers as the LEGO bricks of Deep learning, a metaphor that is made explicit by frameworks like keras. Some of the layers are\n",
        "\n",
        "- Dense or Fully connected layers (Dense).\n",
        "- Convolution layers (Conv2D, Conv1D).\n",
        "- Recurrent layers (RNN, LSTM, GRU).\n",
        "\n",
        "In Keras you don't have to care about **compatibility** between the layers because the layers you add to your models are dynamically built to match the shape of the incoming layer."
      ]
    },
    {
      "cell_type": "code",
      "execution_count": 0,
      "metadata": {
        "colab": {},
        "colab_type": "code",
        "id": "emJQgExzcF7S"
      },
      "outputs": [],
      "source": [
        "from keras.models import Sequential\n",
        "from keras.layers import Dense\n",
        "\n",
        "model = Sequential()\n",
        "model.add(Dense(32, input_shape=(28*28,)))"
      ]
    },
    {
      "cell_type": "markdown",
      "metadata": {
        "colab_type": "text",
        "id": "1pyH_ZlecKdx"
      },
      "source": [
        "#### Loss Functions and Optimizers\n",
        "\n",
        "Once the network architecture is defined, you have to choose two major things:\n",
        "\n",
        "- **Loss function (objective function)** - The quantity that will be minmized during training. It represents a measure of successs for the task at hand.\n",
        "- **Optimizer** - Determines how the network will be updated based on the loss function. It implements a specific variant of stocastic gradient descent(SGD).\n",
        "Choosing the right objective function for the right problem is extremely important: your network will take any shortcut it can, to minimize the loss; so if the objective doesn’t fully correlate with success for the task at hand, your network will end up doing things you may not have wanted.\n",
        "\n",
        "Fortunately, when it comes to common problems such as classification, regression, and sequence prediction, there are simple guidelines you can follow to choose the correct loss. For instance, you’ll use binary_crossentropy for a two-class classification problem, categorical_crossentropy for a many-class classification problem, mean-squared error for a regression problem, connectionist temporal classification(CTC) for a sequence-learning problem, and so on.\n",
        "\n",
        "**Note:** Crossentropy is a quantity from the field of Information Theory that measures the distance between probability distributions or, in this case, between the ground-truth distribution and your predictions."
      ]
    },
    {
      "cell_type": "code",
      "execution_count": 0,
      "metadata": {
        "colab": {},
        "colab_type": "code",
        "id": "_PlCdXxYcgti"
      },
      "outputs": [],
      "source": [
        "## Using optimizer with default settings \n",
        "model.compile('rmsprop', 'mse', \n",
        "               metrics=['accuracy'])"
      ]
    },
    {
      "cell_type": "code",
      "execution_count": 0,
      "metadata": {
        "colab": {},
        "colab_type": "code",
        "id": "I0hash5bchuZ"
      },
      "outputs": [],
      "source": [
        "## Using optimizer with custom argument values\n",
        "from keras.optimizers import RMSprop\n",
        "\n",
        "model.compile(optimizer=RMSprop(),\n",
        "              loss='mse',\n",
        "              metrics = ['accuracy']\n",
        "             )"
      ]
    },
    {
      "cell_type": "markdown",
      "metadata": {
        "colab_type": "text",
        "id": "agOe5lPlcpke"
      },
      "source": [
        "#### Building your network\n",
        "You can intuitively understand teh dimensionality of your model as \"how much freedom you're allowing the network to have when learning internal representations\". Having more hidden units allows the model to learn more-complex representations/functions, but it makes the network more computationally expensive and may lead to learning unwanted patterns.\n",
        "\n",
        "There are two key architecture decisions to be made about such a stack of Dense layers:\n",
        "\n",
        "- How many layers to use\n",
        "- How many hidden units to choose for each layer\n",
        "\n",
        "All the intermediate layers will use an **Activation Function** like **relu**. Without an activation function, The Dense layer would consist of two linear operations - a dot product and an addition.\n",
        "\n",
        "So the layer could only learn linear transformations of the input data. Such a model is to restricted and wouldn't benefit from multiple layers fo representations, because a deep stack of linear layers would still implement a linear operation: adding more layers wouldn't extend the learning ability of the model.\n",
        "\n",
        "In order to get access to a much richer network that would benefit from deep representaions, you need a non-linearity or activation function. relu is the most popular activation function, but there are many other candidates."
      ]
    },
    {
      "cell_type": "markdown",
      "execution_count": null,
      "metadata": {},
      "outputs": [],
      "source": [
        "**Exercise:** Visit [Tensorflow Playground](https://playground.tensorflow.org/) and try building (writing keras code) some of the models that you see.  "
      ]
    },
    {
      "cell_type": "markdown",
      "metadata": {
        "colab_type": "text",
        "id": "CKuMLi93c4LB"
      },
      "source": [
        "## Regression problem : Predicting house prices\n"
      ]
    },
    {
      "cell_type": "code",
      "execution_count": 0,
      "metadata": {
        "colab": {},
        "colab_type": "code",
        "id": "B_4uGnAeWlNg"
      },
      "outputs": [],
      "source": [
        "from keras.datasets import boston_housing\n",
        "\n",
        "from keras.models import Sequential\n",
        "from keras.layers import Dense\n",
        "\n",
        "from keras.optimizers import RMSprop\n",
        "\n",
        "import matplotlib.pyplot as plt\n",
        "%matplotlib inline"
      ]
    },
    {
      "cell_type": "markdown",
      "metadata": {
        "colab_type": "text",
        "id": "wWbpSvSJc9PZ"
      },
      "source": [
        "##### Loading the dataset"
      ]
    },
    {
      "cell_type": "code",
      "execution_count": 2,
      "metadata": {
        "colab": {
          "base_uri": "https://localhost:8080/",
          "height": 50
        },
        "colab_type": "code",
        "id": "maZRUanpXft8",
        "outputId": "14ac63f0-0c39-4eb1-c934-23804d8ae59b"
      },
      "outputs": [
        {
          "name": "stdout",
          "output_type": "stream",
          "text": [
            "Downloading data from https://s3.amazonaws.com/keras-datasets/boston_housing.npz\n",
            "57344/57026 [==============================] - 0s 1us/step\n"
          ]
        }
      ],
      "source": [
        "(X_train, y_train), (X_test, y_test) = boston_housing.load_data()"
      ]
    },
    {
      "cell_type": "code",
      "execution_count": 3,
      "metadata": {
        "colab": {
          "base_uri": "https://localhost:8080/",
          "height": 34
        },
        "colab_type": "code",
        "id": "Sk9KjGqiXs10",
        "outputId": "69988b38-7c84-4856-8e0b-bc1c53585e88"
      },
      "outputs": [
        {
          "data": {
            "text/plain": [
              "((404, 13), (404,), (102, 13), (102,))"
            ]
          },
          "execution_count": 3,
          "metadata": {
            "tags": []
          },
          "output_type": "execute_result"
        }
      ],
      "source": [
        "X_train.shape, y_train.shape, X_test.shape, y_test.shape"
      ]
    },
    {
      "cell_type": "code",
      "execution_count": 4,
      "metadata": {
        "colab": {
          "base_uri": "https://localhost:8080/",
          "height": 118
        },
        "colab_type": "code",
        "id": "NSSEao6FXzQF",
        "outputId": "ceee7ef3-86a8-4f23-e6a5-61ad7f069124"
      },
      "outputs": [
        {
          "data": {
            "text/plain": [
              "array([[1.23247e+00, 0.00000e+00, 8.14000e+00, 0.00000e+00, 5.38000e-01,\n",
              "        6.14200e+00, 9.17000e+01, 3.97690e+00, 4.00000e+00, 3.07000e+02,\n",
              "        2.10000e+01, 3.96900e+02, 1.87200e+01],\n",
              "       [2.17700e-02, 8.25000e+01, 2.03000e+00, 0.00000e+00, 4.15000e-01,\n",
              "        7.61000e+00, 1.57000e+01, 6.27000e+00, 2.00000e+00, 3.48000e+02,\n",
              "        1.47000e+01, 3.95380e+02, 3.11000e+00]])"
            ]
          },
          "execution_count": 4,
          "metadata": {
            "tags": []
          },
          "output_type": "execute_result"
        }
      ],
      "source": [
        "X_train[:2] # first 2 samples"
      ]
    },
    {
      "cell_type": "code",
      "execution_count": 5,
      "metadata": {
        "colab": {
          "base_uri": "https://localhost:8080/",
          "height": 34
        },
        "colab_type": "code",
        "id": "sinOF6hoX2LC",
        "outputId": "0af89676-6e05-4437-f067-ab46ca601f1c"
      },
      "outputs": [
        {
          "data": {
            "text/plain": [
              "array([15.2, 42.3])"
            ]
          },
          "execution_count": 5,
          "metadata": {
            "tags": []
          },
          "output_type": "execute_result"
        }
      ],
      "source": [
        "y_train[:2] # first 2 labels"
      ]
    },
    {
      "cell_type": "markdown",
      "metadata": {
        "colab_type": "text",
        "id": "rKlXVBfBdLUn"
      },
      "source": [
        "The dataset contains 13 different features:\n",
        "\n",
        "1. Per capita crime rate.\n",
        "2. The proportion of residential land zoned for lots over 25,000 square feet.\n",
        "3. The proportion of non-retail business acres per town.\n",
        "4. Charles River dummy variable (= 1 if tract bounds river; 0 otherwise).\n",
        "5. Nitric oxides concentration (parts per 10 million).\n",
        "6. The average number of rooms per dwelling.\n",
        "7. The proportion of owner-occupied units built before 1940.\n",
        "8. Weighted distances to five Boston employment centers.\n",
        "9. Index of accessibility to radial highways.\n",
        "10. Full-value property-tax rate per $10,000.\n",
        "11. Pupil-teacher ratio by town.\n",
        "12. 1000 * (Bk - 0.63) ** 2 where Bk is the proportion of Black people by town.\n",
        "13. Percentage lower status of the population.\n",
        "\n",
        "Each one of these input data features is stored using a different scale. Some features are represented by a proportion between 0 and 1, other features are ranges between 1 and 12, some are ranges between 0 and 100, and so on. This is often the case with real-world data, and understanding how to explore and clean such data is an important skill to develop.\n",
        "\n",
        "**Labels**\n",
        "\n",
        "The labels are the house prices in thousands of dollars. (You may notice the mid-1970s prices.)"
      ]
    },
    {
      "cell_type": "markdown",
      "metadata": {
        "colab_type": "text",
        "id": "qKEiNxAYdAow"
      },
      "source": [
        "##### Building the model"
      ]
    },
    {
      "cell_type": "code",
      "execution_count": 6,
      "metadata": {
        "colab": {
          "base_uri": "https://localhost:8080/",
          "height": 138
        },
        "colab_type": "code",
        "id": "YoHvC6zlXWR9",
        "outputId": "fc589cda-dfbe-4b1f-ac6c-591bbb0806b7"
      },
      "outputs": [
        {
          "name": "stdout",
          "output_type": "stream",
          "text": [
            "WARNING:tensorflow:From /usr/local/lib/python3.6/dist-packages/keras/backend/tensorflow_backend.py:66: The name tf.get_default_graph is deprecated. Please use tf.compat.v1.get_default_graph instead.\n",
            "\n",
            "WARNING:tensorflow:From /usr/local/lib/python3.6/dist-packages/keras/backend/tensorflow_backend.py:541: The name tf.placeholder is deprecated. Please use tf.compat.v1.placeholder instead.\n",
            "\n",
            "WARNING:tensorflow:From /usr/local/lib/python3.6/dist-packages/keras/backend/tensorflow_backend.py:4432: The name tf.random_uniform is deprecated. Please use tf.random.uniform instead.\n",
            "\n"
          ]
        }
      ],
      "source": [
        "model = Sequential()\n",
        "model.add(Dense(32, activation='relu', input_shape=(13,)))\n",
        "model.add(Dense(16, activation='relu'))\n",
        "model.add(Dense(1))"
      ]
    },
    {
      "cell_type": "code",
      "execution_count": 7,
      "metadata": {
        "colab": {
          "base_uri": "https://localhost:8080/",
          "height": 252
        },
        "colab_type": "code",
        "id": "3xJVZWg0Y0eL",
        "outputId": "5413627d-bb73-4f39-f037-53e69b329d30"
      },
      "outputs": [
        {
          "name": "stdout",
          "output_type": "stream",
          "text": [
            "Model: \"sequential_1\"\n",
            "_________________________________________________________________\n",
            "Layer (type)                 Output Shape              Param #   \n",
            "=================================================================\n",
            "dense_1 (Dense)              (None, 32)                448       \n",
            "_________________________________________________________________\n",
            "dense_2 (Dense)              (None, 16)                528       \n",
            "_________________________________________________________________\n",
            "dense_3 (Dense)              (None, 1)                 17        \n",
            "=================================================================\n",
            "Total params: 993\n",
            "Trainable params: 993\n",
            "Non-trainable params: 0\n",
            "_________________________________________________________________\n"
          ]
        }
      ],
      "source": [
        "model.summary()"
      ]
    },
    {
      "cell_type": "code",
      "execution_count": 8,
      "metadata": {
        "colab": {
          "base_uri": "https://localhost:8080/",
          "height": 50
        },
        "colab_type": "code",
        "id": "y3MDbqmGZDMr",
        "outputId": "6195cc2d-e910-4cee-d2ca-fb3e1b4d0231"
      },
      "outputs": [
        {
          "name": "stdout",
          "output_type": "stream",
          "text": [
            "WARNING:tensorflow:From /usr/local/lib/python3.6/dist-packages/keras/optimizers.py:793: The name tf.train.Optimizer is deprecated. Please use tf.compat.v1.train.Optimizer instead.\n",
            "\n"
          ]
        }
      ],
      "source": [
        "model.compile('rmsprop', 'mse', metrics=['mae']) # Mean Absolute Error"
      ]
    },
    {
      "cell_type": "code",
      "execution_count": 9,
      "metadata": {
        "colab": {
          "base_uri": "https://localhost:8080/",
          "height": 994
        },
        "colab_type": "code",
        "id": "91InIZD-ZEWU",
        "outputId": "2acce74f-be85-45ca-f053-02ac1cad4197"
      },
      "outputs": [
        {
          "name": "stdout",
          "output_type": "stream",
          "text": [
            "WARNING:tensorflow:From /usr/local/lib/python3.6/dist-packages/keras/backend/tensorflow_backend.py:1033: The name tf.assign_add is deprecated. Please use tf.compat.v1.assign_add instead.\n",
            "\n",
            "WARNING:tensorflow:From /usr/local/lib/python3.6/dist-packages/keras/backend/tensorflow_backend.py:1020: The name tf.assign is deprecated. Please use tf.compat.v1.assign instead.\n",
            "\n",
            "WARNING:tensorflow:From /usr/local/lib/python3.6/dist-packages/keras/backend/tensorflow_backend.py:3005: The name tf.Session is deprecated. Please use tf.compat.v1.Session instead.\n",
            "\n",
            "Train on 404 samples, validate on 102 samples\n",
            "Epoch 1/20\n",
            "WARNING:tensorflow:From /usr/local/lib/python3.6/dist-packages/keras/backend/tensorflow_backend.py:190: The name tf.get_default_session is deprecated. Please use tf.compat.v1.get_default_session instead.\n",
            "\n",
            "WARNING:tensorflow:From /usr/local/lib/python3.6/dist-packages/keras/backend/tensorflow_backend.py:197: The name tf.ConfigProto is deprecated. Please use tf.compat.v1.ConfigProto instead.\n",
            "\n",
            "WARNING:tensorflow:From /usr/local/lib/python3.6/dist-packages/keras/backend/tensorflow_backend.py:207: The name tf.global_variables is deprecated. Please use tf.compat.v1.global_variables instead.\n",
            "\n",
            "WARNING:tensorflow:From /usr/local/lib/python3.6/dist-packages/keras/backend/tensorflow_backend.py:216: The name tf.is_variable_initialized is deprecated. Please use tf.compat.v1.is_variable_initialized instead.\n",
            "\n",
            "WARNING:tensorflow:From /usr/local/lib/python3.6/dist-packages/keras/backend/tensorflow_backend.py:223: The name tf.variables_initializer is deprecated. Please use tf.compat.v1.variables_initializer instead.\n",
            "\n",
            "404/404 [==============================] - 10s 25ms/step - loss: 8679.1808 - mean_absolute_error: 87.0527 - val_loss: 2449.0257 - val_mean_absolute_error: 47.7560\n",
            "Epoch 2/20\n",
            "404/404 [==============================] - 0s 108us/step - loss: 1265.2436 - mean_absolute_error: 30.4987 - val_loss: 313.9282 - val_mean_absolute_error: 13.4204\n",
            "Epoch 3/20\n",
            "404/404 [==============================] - 0s 107us/step - loss: 226.6856 - mean_absolute_error: 9.9266 - val_loss: 119.3416 - val_mean_absolute_error: 8.2959\n",
            "Epoch 4/20\n",
            "404/404 [==============================] - 0s 96us/step - loss: 125.9242 - mean_absolute_error: 8.3726 - val_loss: 97.5783 - val_mean_absolute_error: 7.5872\n",
            "Epoch 5/20\n",
            "404/404 [==============================] - 0s 118us/step - loss: 95.9083 - mean_absolute_error: 7.3568 - val_loss: 83.1695 - val_mean_absolute_error: 6.3497\n",
            "Epoch 6/20\n",
            "404/404 [==============================] - 0s 120us/step - loss: 81.5269 - mean_absolute_error: 6.5141 - val_loss: 71.6315 - val_mean_absolute_error: 5.9858\n",
            "Epoch 7/20\n",
            "404/404 [==============================] - 0s 118us/step - loss: 83.0808 - mean_absolute_error: 6.6369 - val_loss: 64.6469 - val_mean_absolute_error: 5.8617\n",
            "Epoch 8/20\n",
            "404/404 [==============================] - 0s 122us/step - loss: 80.4465 - mean_absolute_error: 6.5916 - val_loss: 82.4257 - val_mean_absolute_error: 6.4081\n",
            "Epoch 9/20\n",
            "404/404 [==============================] - 0s 116us/step - loss: 79.8203 - mean_absolute_error: 6.4784 - val_loss: 82.5077 - val_mean_absolute_error: 6.4414\n",
            "Epoch 10/20\n",
            "404/404 [==============================] - 0s 103us/step - loss: 72.5335 - mean_absolute_error: 6.1124 - val_loss: 94.5642 - val_mean_absolute_error: 7.1157\n",
            "Epoch 11/20\n",
            "404/404 [==============================] - 0s 95us/step - loss: 70.0562 - mean_absolute_error: 6.0311 - val_loss: 62.3288 - val_mean_absolute_error: 5.9930\n",
            "Epoch 12/20\n",
            "404/404 [==============================] - 0s 91us/step - loss: 66.8389 - mean_absolute_error: 5.9122 - val_loss: 64.4229 - val_mean_absolute_error: 5.8149\n",
            "Epoch 13/20\n",
            "404/404 [==============================] - 0s 90us/step - loss: 61.5686 - mean_absolute_error: 5.5267 - val_loss: 103.6728 - val_mean_absolute_error: 7.5387\n",
            "Epoch 14/20\n",
            "404/404 [==============================] - 0s 110us/step - loss: 67.8211 - mean_absolute_error: 5.7374 - val_loss: 63.4484 - val_mean_absolute_error: 6.1034\n",
            "Epoch 15/20\n",
            "404/404 [==============================] - 0s 116us/step - loss: 63.9431 - mean_absolute_error: 5.7156 - val_loss: 62.3275 - val_mean_absolute_error: 5.6117\n",
            "Epoch 16/20\n",
            "404/404 [==============================] - 0s 102us/step - loss: 64.3103 - mean_absolute_error: 5.6604 - val_loss: 62.5637 - val_mean_absolute_error: 5.5971\n",
            "Epoch 17/20\n",
            "404/404 [==============================] - 0s 119us/step - loss: 68.3793 - mean_absolute_error: 6.0831 - val_loss: 62.7655 - val_mean_absolute_error: 5.5574\n",
            "Epoch 18/20\n",
            "404/404 [==============================] - 0s 125us/step - loss: 61.3713 - mean_absolute_error: 5.5306 - val_loss: 83.9081 - val_mean_absolute_error: 6.7456\n",
            "Epoch 19/20\n",
            "404/404 [==============================] - 0s 126us/step - loss: 63.6608 - mean_absolute_error: 5.7234 - val_loss: 59.5172 - val_mean_absolute_error: 5.4124\n",
            "Epoch 20/20\n",
            "404/404 [==============================] - 0s 108us/step - loss: 58.2950 - mean_absolute_error: 5.3458 - val_loss: 76.1832 - val_mean_absolute_error: 7.2925\n"
          ]
        }
      ],
      "source": [
        "history = model.fit(X_train, y_train, epochs=20, validation_data=(X_test, y_test))"
      ]
    },
    {
      "cell_type": "code",
      "execution_count": 19,
      "metadata": {
        "colab": {
          "base_uri": "https://localhost:8080/",
          "height": 50
        },
        "colab_type": "code",
        "id": "hyIPNt6-ZWuS",
        "outputId": "994b0bb9-b0b1-450e-e9d7-7abd44c749e0"
      },
      "outputs": [
        {
          "data": {
            "text/plain": [
              "(array([[13.020139],\n",
              "        [24.244305]], dtype=float32), array([ 7.2, 18.8]))"
            ]
          },
          "execution_count": 19,
          "metadata": {
            "tags": []
          },
          "output_type": "execute_result"
        }
      ],
      "source": [
        "model.predict(X_test[0:2]), y_test[0:2]"
      ]
    },
    {
      "cell_type": "code",
      "execution_count": 22,
      "metadata": {
        "colab": {
          "base_uri": "https://localhost:8080/",
          "height": 34
        },
        "colab_type": "code",
        "id": "V82Dcpb5aVqA",
        "outputId": "ee6fb947-42c1-4a60-a92e-72bd98c69efa"
      },
      "outputs": [
        {
          "data": {
            "text/plain": [
              "dict_keys(['val_loss', 'val_mean_absolute_error', 'loss', 'mean_absolute_error'])"
            ]
          },
          "execution_count": 22,
          "metadata": {
            "tags": []
          },
          "output_type": "execute_result"
        }
      ],
      "source": [
        "history.history.keys()"
      ]
    },
    {
      "cell_type": "code",
      "execution_count": 10,
      "metadata": {
        "colab": {
          "base_uri": "https://localhost:8080/",
          "height": 516
        },
        "colab_type": "code",
        "id": "x4aKSuZxZTmT",
        "outputId": "edf76115-bd3f-499b-c63d-70480f717733"
      },
      "outputs": [
        {
          "data": {
            "text/plain": [
              "Text(0.5, 1.0, 'Mean Absolute Error')"
            ]
          },
          "execution_count": 10,
          "metadata": {
            "tags": []
          },
          "output_type": "execute_result"
        },
        {
          "data": {
            "image/png": "[encoded data removed]",
            "text/plain": [
              "<Figure size 720x576 with 1 Axes>"
            ]
          },
          "metadata": {
            "tags": []
          },
          "output_type": "display_data"
        }
      ],
      "source": [
        "plt.figure(figsize=(10,8))\n",
        "plt.plot(list(range(20)), history.history['mean_absolute_error'])\n",
        "plt.plot(list(range(20)), history.history['val_mean_absolute_error'])\n",
        "plt.title('Mean Absolute Error')"
      ]
    }
  ]
}