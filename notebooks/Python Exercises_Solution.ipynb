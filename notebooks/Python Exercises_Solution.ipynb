{
 "cells": [
  {
   "cell_type": "markdown",
   "metadata": {
    "colab_type": "text",
    "id": "4yH2sVAWOa0h"
   },
   "source": [
    "# Python Exercises Solution\n",
    "\n",
    "Go through the solution and know where you went wrong. Again, if you find this extremely challenging, then you probably need to spend some more time programming in python language. Let us Know if You need more such exercise questions."
   ]
  },
  {
   "cell_type": "markdown",
   "metadata": {
    "colab_type": "text",
    "id": "UUhXXUYrOa0i"
   },
   "source": [
    "## Exercises\n",
    "\n",
    "Answer the questions or complete the tasks outlined in bold below, use the specific method described if applicable."
   ]
  },
  {
   "cell_type": "markdown",
   "metadata": {
    "colab_type": "text",
    "id": "-0xUXeaVOa0j"
   },
   "source": [
    "#### Q1. What is 7 to the power of 4?"
   ]
  },
  {
   "cell_type": "code",
   "execution_count": 1,
   "metadata": {
    "colab": {
     "base_uri": "https://localhost:8080/",
     "height": 34
    },
    "colab_type": "code",
    "executionInfo": {
     "elapsed": 1291,
     "status": "ok",
     "timestamp": 1565074009765,
     "user": {
      "displayName": "Ai Adventures",
      "photoUrl": "https://lh3.googleusercontent.com/-OQdAjp2vMZo/AAAAAAAAAAI/AAAAAAAAAA8/8FVq41kVT5s/s64/photo.jpg",
      "userId": "14635366068755244481"
     },
     "user_tz": -330
    },
    "id": "yt8Btw3ZOa0k",
    "outputId": "cdff954b-6a42-4c15-80ea-415529c29d27"
   },
   "outputs": [
    {
     "data": {
      "text/plain": [
       "2401"
      ]
     },
     "execution_count": 1,
     "metadata": {
      "tags": []
     },
     "output_type": "execute_result"
    }
   ],
   "source": [
    "## your code here\n",
    "7**4"
   ]
  },
  {
   "cell_type": "markdown",
   "metadata": {
    "colab_type": "text",
    "id": "M_qHMSHnOa0q"
   },
   "source": [
    "#### Q2. Split the below string into a list:\n",
    "~~~ python\n",
    "    s = \"Hi there dad!\"\n",
    "~~~"
   ]
  },
  {
   "cell_type": "code",
   "execution_count": 2,
   "metadata": {
    "colab": {
     "base_uri": "https://localhost:8080/",
     "height": 34
    },
    "colab_type": "code",
    "executionInfo": {
     "elapsed": 1718,
     "status": "ok",
     "timestamp": 1565074010211,
     "user": {
      "displayName": "Ai Adventures",
      "photoUrl": "https://lh3.googleusercontent.com/-OQdAjp2vMZo/AAAAAAAAAAI/AAAAAAAAAA8/8FVq41kVT5s/s64/photo.jpg",
      "userId": "14635366068755244481"
     },
     "user_tz": -330
    },
    "id": "rzYu2RrYOa0r",
    "outputId": "705cffc4-0f17-4340-a166-934b7253f78c"
   },
   "outputs": [
    {
     "data": {
      "text/plain": [
       "['Hi', 'there', 'dad!']"
      ]
     },
     "execution_count": 2,
     "metadata": {
      "tags": []
     },
     "output_type": "execute_result"
    }
   ],
   "source": [
    "## your code here\n",
    "s = 'Hi there dad!'\n",
    "s.split()"
   ]
  },
  {
   "cell_type": "markdown",
   "metadata": {
    "colab_type": "text",
    "id": "IVhXBm_yOa0v"
   },
   "source": [
    "To read more about split(), refer [this](https://www.programiz.com/python-programming/methods/string/split)\n",
    "\n",
    "To Solve one more problem on split(), try [this](https://www.hackerrank.com/challenges/python-string-split-and-join/problem)"
   ]
  },
  {
   "cell_type": "markdown",
   "metadata": {
    "colab_type": "text",
    "id": "or47-0MGOa0v"
   },
   "source": [
    "#### Q3. Given the variables:\n",
    "\n",
    "    planet = \"Earth\"\n",
    "    diameter = 12742\n",
    "\n",
    "Use .format() to print the following string:\n",
    "\n",
    "    The diameter of Earth is 12742 kilometers.\n",
    "    \n",
    "To read more about .format(), refer [this](https://realpython.com/python-string-formatting/)"
   ]
  },
  {
   "cell_type": "code",
   "execution_count": 3,
   "metadata": {
    "colab": {
     "base_uri": "https://localhost:8080/",
     "height": 34
    },
    "colab_type": "code",
    "executionInfo": {
     "elapsed": 1702,
     "status": "ok",
     "timestamp": 1565074010212,
     "user": {
      "displayName": "Ai Adventures",
      "photoUrl": "https://lh3.googleusercontent.com/-OQdAjp2vMZo/AAAAAAAAAAI/AAAAAAAAAA8/8FVq41kVT5s/s64/photo.jpg",
      "userId": "14635366068755244481"
     },
     "user_tz": -330
    },
    "id": "HzHZqCXkOa0w",
    "outputId": "1546bc3d-cf93-4fb5-aba7-8cec3feae01c"
   },
   "outputs": [
    {
     "name": "stdout",
     "output_type": "stream",
     "text": [
      "The diameter of Earth is 12742 kilometers\n"
     ]
    }
   ],
   "source": [
    "## your code here\n",
    "planet = \"Earth\"\n",
    "diameter = 12742\n",
    "print('The diameter of {} is {} kilometers'.format(planet, diameter))"
   ]
  },
  {
   "cell_type": "markdown",
   "metadata": {
    "colab_type": "text",
    "id": "KqAPNKslOa00"
   },
   "source": [
    "#### Q4. Given this nested list, use indexing to grab the word \"hello\""
   ]
  },
  {
   "cell_type": "code",
   "execution_count": 0,
   "metadata": {
    "colab": {},
    "colab_type": "code",
    "id": "vIsYOlsgOa01"
   },
   "outputs": [],
   "source": [
    "lst = [1,2,[3,4],[5,[100,200,['hello']],23,11],1,7]"
   ]
  },
  {
   "cell_type": "code",
   "execution_count": 5,
   "metadata": {
    "colab": {
     "base_uri": "https://localhost:8080/",
     "height": 34
    },
    "colab_type": "code",
    "executionInfo": {
     "elapsed": 1688,
     "status": "ok",
     "timestamp": 1565074010215,
     "user": {
      "displayName": "Ai Adventures",
      "photoUrl": "https://lh3.googleusercontent.com/-OQdAjp2vMZo/AAAAAAAAAAI/AAAAAAAAAA8/8FVq41kVT5s/s64/photo.jpg",
      "userId": "14635366068755244481"
     },
     "user_tz": -330
    },
    "id": "KqfwwxkWOa04",
    "outputId": "2988a752-6d38-4161-ca9c-9d62d75efafc"
   },
   "outputs": [
    {
     "data": {
      "text/plain": [
       "'hello'"
      ]
     },
     "execution_count": 5,
     "metadata": {
      "tags": []
     },
     "output_type": "execute_result"
    }
   ],
   "source": [
    "## your code here\n",
    "lst[3][1][2][0]"
   ]
  },
  {
   "cell_type": "markdown",
   "metadata": {
    "colab_type": "text",
    "id": "cM1__xn_Oa07"
   },
   "source": [
    "#### Q5. Given this nested dictionary grab the word \"hello\". Be prepared, this will be annoying/tricky"
   ]
  },
  {
   "cell_type": "code",
   "execution_count": 0,
   "metadata": {
    "colab": {},
    "colab_type": "code",
    "id": "EIyxYQqSOa08"
   },
   "outputs": [],
   "source": [
    "d = {'k1':[1,2,3,{'tricky':['oh','man','inception',{'target':[1,2,3,'hello']}]}]}"
   ]
  },
  {
   "cell_type": "code",
   "execution_count": 7,
   "metadata": {
    "colab": {
     "base_uri": "https://localhost:8080/",
     "height": 34
    },
    "colab_type": "code",
    "executionInfo": {
     "elapsed": 1674,
     "status": "ok",
     "timestamp": 1565074010217,
     "user": {
      "displayName": "Ai Adventures",
      "photoUrl": "https://lh3.googleusercontent.com/-OQdAjp2vMZo/AAAAAAAAAAI/AAAAAAAAAA8/8FVq41kVT5s/s64/photo.jpg",
      "userId": "14635366068755244481"
     },
     "user_tz": -330
    },
    "id": "MEUYbTzyOa0_",
    "outputId": "6f4fbf03-b983-414b-8ee1-30e43a6c41a3"
   },
   "outputs": [
    {
     "data": {
      "text/plain": [
       "'hello'"
      ]
     },
     "execution_count": 7,
     "metadata": {
      "tags": []
     },
     "output_type": "execute_result"
    }
   ],
   "source": [
    "## your code here\n",
    "d['k1'][3]['tricky'][3]['target'][3]"
   ]
  },
  {
   "cell_type": "markdown",
   "metadata": {
    "colab_type": "text",
    "id": "tdlx689pOa1E"
   },
   "source": [
    "#### Q6. What is the main difference between a tuple and a list?"
   ]
  },
  {
   "cell_type": "code",
   "execution_count": 0,
   "metadata": {
    "colab": {},
    "colab_type": "code",
    "id": "_3xb9amyOa1F"
   },
   "outputs": [],
   "source": [
    "## your answer here\n",
    "## Tuples are immutable"
   ]
  },
  {
   "cell_type": "markdown",
   "metadata": {
    "colab_type": "text",
    "id": "QKx3mKoqOa1H"
   },
   "source": [
    "#### Q7. Create a function that grabs the email website domain from a string in the form:\n",
    "\n",
    "    user@domain.com\n",
    "    \n",
    "So for example, passing \"user@domain.com\" would return: domain.com"
   ]
  },
  {
   "cell_type": "code",
   "execution_count": 0,
   "metadata": {
    "colab": {},
    "colab_type": "code",
    "id": "d_-VMtuGOa1I"
   },
   "outputs": [],
   "source": [
    "## Your code here\n",
    "## define 'getDomain()' function\n",
    "def getDomain(email):\n",
    "    return email.split('@')[-1]"
   ]
  },
  {
   "cell_type": "code",
   "execution_count": 10,
   "metadata": {
    "colab": {
     "base_uri": "https://localhost:8080/",
     "height": 34
    },
    "colab_type": "code",
    "executionInfo": {
     "elapsed": 1656,
     "status": "ok",
     "timestamp": 1565074010219,
     "user": {
      "displayName": "Ai Adventures",
      "photoUrl": "https://lh3.googleusercontent.com/-OQdAjp2vMZo/AAAAAAAAAAI/AAAAAAAAAA8/8FVq41kVT5s/s64/photo.jpg",
      "userId": "14635366068755244481"
     },
     "user_tz": -330
    },
    "id": "bYvn4p1COa1K",
    "outputId": "e8d05cca-fff7-4fba-de6b-f4faecc90a19"
   },
   "outputs": [
    {
     "data": {
      "text/plain": [
       "'domain.com'"
      ]
     },
     "execution_count": 10,
     "metadata": {
      "tags": []
     },
     "output_type": "execute_result"
    }
   ],
   "source": [
    "getDomain('user@domain.com')"
   ]
  },
  {
   "cell_type": "markdown",
   "metadata": {
    "colab_type": "text",
    "id": "iR8F8u_rOa1N"
   },
   "source": [
    "#### Q8. Create a basic function that returns True if the word 'dog' is contained in the input string. \n",
    "Don't worry about edge cases like a punctuation being attached to the word dog, but do account for capitalization."
   ]
  },
  {
   "cell_type": "code",
   "execution_count": 0,
   "metadata": {
    "colab": {},
    "colab_type": "code",
    "id": "PoblWK_JOa1O"
   },
   "outputs": [],
   "source": [
    "## Your code here\n",
    "## define 'findDog()' function\n",
    "def findDog(st):\n",
    "    return 'dog' in st.lower().split()\n"
   ]
  },
  {
   "cell_type": "code",
   "execution_count": 12,
   "metadata": {
    "colab": {
     "base_uri": "https://localhost:8080/",
     "height": 34
    },
    "colab_type": "code",
    "executionInfo": {
     "elapsed": 1639,
     "status": "ok",
     "timestamp": 1565074010221,
     "user": {
      "displayName": "Ai Adventures",
      "photoUrl": "https://lh3.googleusercontent.com/-OQdAjp2vMZo/AAAAAAAAAAI/AAAAAAAAAA8/8FVq41kVT5s/s64/photo.jpg",
      "userId": "14635366068755244481"
     },
     "user_tz": -330
    },
    "id": "F4J_3iLJOa1R",
    "outputId": "8d664291-6f6f-4e12-d707-c2d675a02849"
   },
   "outputs": [
    {
     "data": {
      "text/plain": [
       "True"
      ]
     },
     "execution_count": 12,
     "metadata": {
      "tags": []
     },
     "output_type": "execute_result"
    }
   ],
   "source": [
    "findDog('Is there a dog here?')"
   ]
  },
  {
   "cell_type": "markdown",
   "metadata": {
    "colab_type": "text",
    "id": "zbg8W8VUOa1W"
   },
   "source": [
    "#### Q9. Create a function that counts the number of times the word \"dog\" occurs in a string.\n",
    "Again ignore edge cases."
   ]
  },
  {
   "cell_type": "code",
   "execution_count": 0,
   "metadata": {
    "colab": {},
    "colab_type": "code",
    "id": "lwjEJphCOa1X"
   },
   "outputs": [],
   "source": [
    "## Your code here\n",
    "## define 'countDog()' function\n",
    "def countDog(st):\n",
    "    count = 0\n",
    "    for word in st.lower().split():\n",
    "        if word == 'dog':\n",
    "            count += 1\n",
    "    return count\n"
   ]
  },
  {
   "cell_type": "code",
   "execution_count": 14,
   "metadata": {
    "colab": {
     "base_uri": "https://localhost:8080/",
     "height": 34
    },
    "colab_type": "code",
    "executionInfo": {
     "elapsed": 1624,
     "status": "ok",
     "timestamp": 1565074010222,
     "user": {
      "displayName": "Ai Adventures",
      "photoUrl": "https://lh3.googleusercontent.com/-OQdAjp2vMZo/AAAAAAAAAAI/AAAAAAAAAA8/8FVq41kVT5s/s64/photo.jpg",
      "userId": "14635366068755244481"
     },
     "user_tz": -330
    },
    "id": "ZacP7eWuOa1b",
    "outputId": "38f88249-3b9b-48ee-b0d3-a6505ca99aa9"
   },
   "outputs": [
    {
     "data": {
      "text/plain": [
       "2"
      ]
     },
     "execution_count": 14,
     "metadata": {
      "tags": []
     },
     "output_type": "execute_result"
    }
   ],
   "source": [
    "countDog('This dog runs faster than the other dog dude!')"
   ]
  },
  {
   "cell_type": "markdown",
   "metadata": {
    "colab_type": "text",
    "id": "suWM_9ZUOa1g"
   },
   "source": [
    "#### Q10. Create a function to filter out words from a list that starts with the letter 's'. \n",
    "For example:\n",
    "\n",
    "    seq = ['soup','dog','salad','cat','great']\n",
    "\n",
    "**should be filtered down to:**\n",
    "\n",
    "    ['soup','salad']"
   ]
  },
  {
   "cell_type": "code",
   "execution_count": 0,
   "metadata": {
    "colab": {},
    "colab_type": "code",
    "id": "cGPGVzDBOa1i"
   },
   "outputs": [],
   "source": [
    "seq = ['soup','dog','salad','cat','great']"
   ]
  },
  {
   "cell_type": "code",
   "execution_count": 16,
   "metadata": {
    "colab": {
     "base_uri": "https://localhost:8080/",
     "height": 34
    },
    "colab_type": "code",
    "executionInfo": {
     "elapsed": 1609,
     "status": "ok",
     "timestamp": 1565074010224,
     "user": {
      "displayName": "Ai Adventures",
      "photoUrl": "https://lh3.googleusercontent.com/-OQdAjp2vMZo/AAAAAAAAAAI/AAAAAAAAAA8/8FVq41kVT5s/s64/photo.jpg",
      "userId": "14635366068755244481"
     },
     "user_tz": -330
    },
    "id": "ynNKxwlJOa1n",
    "outputId": "fb831671-4c1e-4a27-bab6-03fd96c48026"
   },
   "outputs": [
    {
     "data": {
      "text/plain": [
       "['soup', 'salad']"
      ]
     },
     "execution_count": 16,
     "metadata": {
      "tags": []
     },
     "output_type": "execute_result"
    }
   ],
   "source": [
    "## your code here\n",
    "list(filter(lambda word: word[0]=='s',seq))"
   ]
  },
  {
   "cell_type": "markdown",
   "metadata": {
    "colab_type": "text",
    "id": "Yp9Y2BSfOa1r"
   },
   "source": [
    "\n",
    "#### Q11. \"No ticket\", \"Small ticket\", or \"Big Ticket\".\n",
    "You are driving a little too fast, and a police officer stops you. \n",
    "\n",
    "Write a function to return one of 3 possible results: \"No ticket\", \"Small ticket\", or \"Big Ticket\".\n",
    "\n",
    "  - If your speed is 60 or less, the result is \"No Ticket\". \n",
    "  \n",
    "  - If speed is between 61 and 80 inclusive, the result is \"Small Ticket\". \n",
    "  \n",
    "  - If speed is 81 or more, the result is \"Big Ticket\". \n",
    "  \n",
    "  - Unless it is your birthday (encoded as a boolean value in the parameters of the function) -- on your birthday, your speed can be 5 higher in all cases."
   ]
  },
  {
   "cell_type": "code",
   "execution_count": 0,
   "metadata": {
    "colab": {},
    "colab_type": "code",
    "id": "8VIKOt85Oa1s"
   },
   "outputs": [],
   "source": [
    "## Your code here\n",
    "## define 'caught_speeding()' function\n",
    "def caught_speeding(speed, is_birthday):\n",
    "    if is_birthday:\n",
    "        speeding = speed - 5\n",
    "    else:\n",
    "        speeding = speed\n",
    "    \n",
    "    if speeding > 80:\n",
    "        return 'Big Ticket'\n",
    "    elif speeding > 60:\n",
    "        return 'Small Ticket'\n",
    "    else:\n",
    "        return 'No Ticket'"
   ]
  },
  {
   "cell_type": "code",
   "execution_count": 18,
   "metadata": {
    "colab": {
     "base_uri": "https://localhost:8080/",
     "height": 34
    },
    "colab_type": "code",
    "executionInfo": {
     "elapsed": 1595,
     "status": "ok",
     "timestamp": 1565074010226,
     "user": {
      "displayName": "Ai Adventures",
      "photoUrl": "https://lh3.googleusercontent.com/-OQdAjp2vMZo/AAAAAAAAAAI/AAAAAAAAAA8/8FVq41kVT5s/s64/photo.jpg",
      "userId": "14635366068755244481"
     },
     "user_tz": -330
    },
    "id": "way7p4QfOa1w",
    "outputId": "f4ebf49f-0829-44a2-b3f3-428cada1c8c2"
   },
   "outputs": [
    {
     "data": {
      "text/plain": [
       "'Small Ticket'"
      ]
     },
     "execution_count": 18,
     "metadata": {
      "tags": []
     },
     "output_type": "execute_result"
    }
   ],
   "source": [
    "caught_speeding(81,True)"
   ]
  },
  {
   "cell_type": "code",
   "execution_count": 19,
   "metadata": {
    "colab": {
     "base_uri": "https://localhost:8080/",
     "height": 34
    },
    "colab_type": "code",
    "executionInfo": {
     "elapsed": 1582,
     "status": "ok",
     "timestamp": 1565074010227,
     "user": {
      "displayName": "Ai Adventures",
      "photoUrl": "https://lh3.googleusercontent.com/-OQdAjp2vMZo/AAAAAAAAAAI/AAAAAAAAAA8/8FVq41kVT5s/s64/photo.jpg",
      "userId": "14635366068755244481"
     },
     "user_tz": -330
    },
    "id": "lYS0UGMaOa11",
    "outputId": "af52ad28-6f41-44b7-8528-9469432779a5"
   },
   "outputs": [
    {
     "data": {
      "text/plain": [
       "'Big Ticket'"
      ]
     },
     "execution_count": 19,
     "metadata": {
      "tags": []
     },
     "output_type": "execute_result"
    }
   ],
   "source": [
    "caught_speeding(81,False)"
   ]
  },
  {
   "cell_type": "markdown",
   "metadata": {
    "colab_type": "text",
    "id": "gpy3nbz1Oa14"
   },
   "source": [
    "## Some More Questions ;)\n",
    "\n",
    "### Q12. The Collatz Sequence \n",
    "Write a function named <b>collatz()</b> that has one parameter named number.<br>\n",
    "<b>(a)</b> If number is even, then collatz() should print number // 2 and return this value.<br> \n",
    "<b>(b)</b> If number is odd, then collatz() should print and return 3 * number + 1.<br> \n",
    "Then write a program that lets the user type in an integer and that keeps calling collatz() on that number <b>until the function returns the value 1</b>.<br> \n",
    "(Amazingly enough, this sequence actually works for any integer—sooner or later, using this sequence, you’ll arrive at 1! Even mathematicians aren’t sure why. Your program is exploring what’s called the Collatz sequence, sometimes called “the simplest impossible math problem.”)<br>  \n",
    "\n",
    "<b>Hint:</b> An integer number is even if number % 2 == 0, and it’s odd if  number % 2 == 1.\n",
    "\n",
    "<b>Sample Output :</b> for collatz(3)\n",
    "<br>3<br> 10<br> 5<br> 16<br> 8<br> 4<br> 2<br> 1\n",
    "\n"
   ]
  },
  {
   "cell_type": "code",
   "execution_count": 20,
   "metadata": {
    "colab": {
     "base_uri": "https://localhost:8080/",
     "height": 153
    },
    "colab_type": "code",
    "executionInfo": {
     "elapsed": 1570,
     "status": "ok",
     "timestamp": 1565074010228,
     "user": {
      "displayName": "Ai Adventures",
      "photoUrl": "https://lh3.googleusercontent.com/-OQdAjp2vMZo/AAAAAAAAAAI/AAAAAAAAAA8/8FVq41kVT5s/s64/photo.jpg",
      "userId": "14635366068755244481"
     },
     "user_tz": -330
    },
    "id": "V1w2CmOhOa15",
    "outputId": "f99785ba-c065-42e9-c37b-7c642f155095"
   },
   "outputs": [
    {
     "name": "stdout",
     "output_type": "stream",
     "text": [
      "3\n",
      "10\n",
      "5\n",
      "16\n",
      "8\n",
      "4\n",
      "2\n",
      "1\n"
     ]
    }
   ],
   "source": [
    "## Your code here\n",
    "def collatz(x):\n",
    "    print(x)\n",
    "    while(x!=1):\n",
    "        \n",
    "        if(x%2 ==0):\n",
    "            x = x//2\n",
    "            print(x)\n",
    "        elif(x%2 ==1):\n",
    "            x = ((x*3)+1)\n",
    "            print(x)\n",
    "        \n",
    "collatz(3)"
   ]
  },
  {
   "cell_type": "markdown",
   "metadata": {
    "colab_type": "text",
    "id": "I188evsjOa18"
   },
   "source": [
    "### Q13. Comma Code \n",
    "Write a function that takes a list value as an argument and returns a string with all the items separated by a comma and a space, with and inserted before the last item.<br>\n",
    "For example, passing the previous spam list to the function would return <b>'apples, bananas, tofu, and cats'</b>. But your function should be able to work with any list value passed to it."
   ]
  },
  {
   "cell_type": "code",
   "execution_count": 21,
   "metadata": {
    "colab": {
     "base_uri": "https://localhost:8080/",
     "height": 34
    },
    "colab_type": "code",
    "executionInfo": {
     "elapsed": 1554,
     "status": "ok",
     "timestamp": 1565074010229,
     "user": {
      "displayName": "Ai Adventures",
      "photoUrl": "https://lh3.googleusercontent.com/-OQdAjp2vMZo/AAAAAAAAAAI/AAAAAAAAAA8/8FVq41kVT5s/s64/photo.jpg",
      "userId": "14635366068755244481"
     },
     "user_tz": -330
    },
    "id": "LcPg3QKxOa19",
    "outputId": "f66cc213-9aef-4198-d6ac-af29dcee9343"
   },
   "outputs": [
    {
     "data": {
      "text/plain": [
       "'apples, bananas, and cats'"
      ]
     },
     "execution_count": 21,
     "metadata": {
      "tags": []
     },
     "output_type": "execute_result"
    }
   ],
   "source": [
    "spam = ['apples', 'bananas', 'tofu', 'cats']\n",
    "\n",
    "def comma_code(arr):\n",
    "    ## Your code here  \n",
    "    arr_str = ''\n",
    "    for i in range(len(arr)-2):\n",
    "        arr_str += arr[i]+', '\n",
    "    arr_str += 'and '+arr[-1] \n",
    "    return arr_str  \n",
    "\n",
    "comma_code(spam)"
   ]
  },
  {
   "cell_type": "markdown",
   "metadata": {
    "colab_type": "text",
    "id": "me1q2YNIOa2A"
   },
   "source": [
    "### Q14. Character Picture Grid \n",
    "\n",
    "You can think of grid[x][y] as being the character at the x- and y- coordinates of a “picture” drawn with text characters. The (0, 0) origin will be in the upper-left corner, the x-coordinates increase going right, and w the y-coordinates increase going down.<br>\n"
   ]
  },
  {
   "cell_type": "code",
   "execution_count": 22,
   "metadata": {
    "colab": {
     "base_uri": "https://localhost:8080/",
     "height": 136
    },
    "colab_type": "code",
    "executionInfo": {
     "elapsed": 1542,
     "status": "ok",
     "timestamp": 1565074010230,
     "user": {
      "displayName": "Ai Adventures",
      "photoUrl": "https://lh3.googleusercontent.com/-OQdAjp2vMZo/AAAAAAAAAAI/AAAAAAAAAA8/8FVq41kVT5s/s64/photo.jpg",
      "userId": "14635366068755244481"
     },
     "user_tz": -330
    },
    "id": "BbWweNNkOa2B",
    "outputId": "fa3126f1-e5da-4029-8bc8-5be8c737b0da"
   },
   "outputs": [
    {
     "name": "stdout",
     "output_type": "stream",
     "text": [
      "\n",
      "..OO.OO..\n",
      ".OOOOOOO.\n",
      ".OOOOOOO.\n",
      "..OOOOO..\n",
      "...OOO...\n",
      "....O...."
     ]
    }
   ],
   "source": [
    "grid = [['.', '.', '.', '.', '.', '.'],       \n",
    "        ['.', 'O', 'O', '.', '.', '.'],        \n",
    "        ['O', 'O', 'O', 'O', '.', '.'],        \n",
    "        ['O', 'O', 'O', 'O', 'O', '.'],        \n",
    "        ['.', 'O', 'O', 'O', 'O', 'O'],        \n",
    "        ['O', 'O', 'O', 'O', 'O', '.'],        \n",
    "        ['O', 'O', 'O', 'O', '.', '.'],        \n",
    "        ['.', 'O', 'O', '.', '.', '.'],        \n",
    "        ['.', '.', '.', '.', '.', '.']]\n",
    "\n",
    "## Your code here\n",
    "num_rows = len(grid)    \n",
    "num_cols = len(grid[0])\n",
    "\n",
    "for col in range(num_cols):\n",
    "    print ()\n",
    "    for row in range(num_rows):\n",
    "        print (grid[row][col], end='')"
   ]
  },
  {
   "cell_type": "markdown",
   "metadata": {
    "colab_type": "text",
    "id": "h3p3fh9LOa2E"
   },
   "source": [
    "### Fantasy Game Inventory\n",
    "You are creating a fantasy video game. The data structure to model the player’s inventory will be a dictionary where the keys are string values describing the item in the inventory and the value is an integer value detailing how many of that item the player has. For example, the dictionary value <b>\n",
    "~~~ python\n",
    "{'rope': 1, 'torch': 6, 'gold coin': 42, 'dagger': 1, 'arrow': 12}\n",
    "~~~\n",
    "</b> means the player has <b>1 rope, 6 torches, 42 gold coins, and so on.</b> \n",
    "\n",
    "### Q15. displayInventory()\n",
    "Write a function named <b>displayInventory()</b>\n"
   ]
  },
  {
   "cell_type": "code",
   "execution_count": 23,
   "metadata": {
    "colab": {
     "base_uri": "https://localhost:8080/",
     "height": 170
    },
    "colab_type": "code",
    "executionInfo": {
     "elapsed": 1525,
     "status": "ok",
     "timestamp": 1565074010231,
     "user": {
      "displayName": "Ai Adventures",
      "photoUrl": "https://lh3.googleusercontent.com/-OQdAjp2vMZo/AAAAAAAAAAI/AAAAAAAAAA8/8FVq41kVT5s/s64/photo.jpg",
      "userId": "14635366068755244481"
     },
     "user_tz": -330
    },
    "id": "gFItc3ozOa2F",
    "outputId": "f5880805-b9a6-452b-b530-e4d456ff80e4",
    "scrolled": true
   },
   "outputs": [
    {
     "name": "stdout",
     "output_type": "stream",
     "text": [
      "--------------------\n",
      "Inventory so far: \n",
      "--------------------\n",
      "1 rope\n",
      "6 torch\n",
      "42 gold coin\n",
      "1 dagger\n",
      "12 arrow\n",
      "Total number of items: 62\n"
     ]
    }
   ],
   "source": [
    "inven = {'rope': 1, 'torch': 6, 'gold coin': 42, 'dagger': 1, 'arrow': 12}\n",
    "\n",
    "def displayInventory(inventory_list):\n",
    "    ## Your code here\n",
    "    print (\"-\" * 20)\n",
    "    print (\"Inventory so far: \")\n",
    "    print (\"-\" * 20)\n",
    "    for keys,values in inventory_list.items():\n",
    "        print (values,keys)\n",
    "    print('Total number of items:',sum(inventory_list.values()))\n",
    "    \n",
    "displayInventory(inven)        "
   ]
  },
  {
   "cell_type": "markdown",
   "metadata": {
    "colab_type": "text",
    "id": "JcCWb-bROa2J"
   },
   "source": [
    "### Q16.  addToInventory(inventory, addedItems)\n",
    "Write a function named <b>addToInventory(inventory, addedItems)</b>, where the <b>inventory</b> parameter is a dictionary representing the player’s inventory (like in the previous project) and the <b>addedItems</b> parameter is a list like dragonLoot.<br> The <b>addToInventory()</b> function should return a dictionary that represents the updated inventory. <br><b>Note:</b> that the addedItems list can contain multiples of the same item.<br>"
   ]
  },
  {
   "cell_type": "code",
   "execution_count": 24,
   "metadata": {
    "colab": {
     "base_uri": "https://localhost:8080/",
     "height": 153
    },
    "colab_type": "code",
    "executionInfo": {
     "elapsed": 1509,
     "status": "ok",
     "timestamp": 1565074010232,
     "user": {
      "displayName": "Ai Adventures",
      "photoUrl": "https://lh3.googleusercontent.com/-OQdAjp2vMZo/AAAAAAAAAAI/AAAAAAAAAA8/8FVq41kVT5s/s64/photo.jpg",
      "userId": "14635366068755244481"
     },
     "user_tz": -330
    },
    "id": "pHQrzCujOa2K",
    "outputId": "e235b87d-4d04-403a-d899-fea07ad96661"
   },
   "outputs": [
    {
     "name": "stdout",
     "output_type": "stream",
     "text": [
      "--------------------\n",
      "Inventory so far: \n",
      "--------------------\n",
      "45 gold coin\n",
      "1 rope\n",
      "1 dagger\n",
      "1 ruby\n",
      "Total number of items: 48\n"
     ]
    }
   ],
   "source": [
    "def addToInventory(inventory, addedItems):    \n",
    "    ## Your code here\n",
    "    for i in addedItems:\n",
    "        if i in inventory.keys():\n",
    "            inventory[i] +=1 \n",
    "        else:\n",
    "            inventory[i]=1\n",
    "    return inventory\n",
    "\n",
    "inv = {'gold coin': 42, 'rope': 1} \n",
    "dragonLoot = ['gold coin', 'dagger', 'gold coin', 'gold coin', 'ruby'] \n",
    "inv = addToInventory(inv, dragonLoot) \n",
    "displayInventory(inv)"
   ]
  },
  {
   "cell_type": "markdown",
   "metadata": {
    "colab_type": "text",
    "id": "ggUVi05xOa2N"
   },
   "source": [
    "# Great job!"
   ]
  }
 ],
 "metadata": {
  "colab": {
   "name": "Python Exercises_Solution.ipynb",
   "provenance": [],
   "version": "0.3.2"
  },
  "kernelspec": {
   "display_name": "Python 3",
   "language": "python",
   "name": "python3"
  },
  "language_info": {
   "codemirror_mode": {
    "name": "ipython",
    "version": 3
   },
   "file_extension": ".py",
   "mimetype": "text/x-python",
   "name": "python",
   "nbconvert_exporter": "python",
   "pygments_lexer": "ipython3",
   "version": "3.6.7"
  }
 },
 "nbformat": 4,
 "nbformat_minor": 1
}
